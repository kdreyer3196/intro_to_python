{
 "cells": [
  {
   "cell_type": "markdown",
   "metadata": {},
   "source": [
    "# Introduction to Python "
   ]
  },
  {
   "cell_type": "markdown",
   "metadata": {},
   "source": [
    "This is a Jupyer notebook, which is a way of running Python code that enables both Python code and markdown (text such as what you are reading right now) in the same environment. Each cell in this notebook much be executed independently with the run button at the top of the page. Python will store the variables that you name in any cell for the entire notebook (ex: if you define a = 5 in one cell, you can then write print(a) in the next cell and Python will remember that you set a = 5 in a previous cell). Let's go through a few tips for best practices for coding in Python."
   ]
  },
  {
   "cell_type": "markdown",
   "metadata": {},
   "source": [
    "## Code Structure"
   ]
  },
  {
   "cell_type": "markdown",
   "metadata": {},
   "source": [
    "A great way to organize code is by using functions. This helps you write cleaner, more readible code and is a great way to avoid having the same block of code show up multiple times in your script.\n",
    "\n",
    "For example, if we want to write a function that takes in a number(x) and outputs that number multiplied by 5, you could write the following."
   ]
  },
  {
   "cell_type": "code",
   "execution_count": null,
   "metadata": {},
   "outputs": [],
   "source": [
    "def myFunction(x):\n",
    "    return 5 * x"
   ]
  },
  {
   "cell_type": "markdown",
   "metadata": {},
   "source": [
    "The name of this function is myFunction. It takes an input of x and outputs 5 * x. To use this function, you can write the following. This specific example inputs the number 7 and assigns a value of 35 (7 * 5) to the output variable. "
   ]
  },
  {
   "cell_type": "code",
   "execution_count": null,
   "metadata": {},
   "outputs": [],
   "source": [
    "output = myFunction(7)"
   ]
  },
  {
   "cell_type": "markdown",
   "metadata": {},
   "source": [
    "Note that when you ran the above cell, you did not see the answer returned to you below the cell. That is because we assigned the output of the function to the variable \"output,\" but did not include a print statement such that the value of output will be printed out below our cell. To see the output, run the following cell. "
   ]
  },
  {
   "cell_type": "code",
   "execution_count": null,
   "metadata": {},
   "outputs": [],
   "source": [
    "print(output)"
   ]
  },
  {
   "cell_type": "markdown",
   "metadata": {},
   "source": [
    "## Simple Examples of Each Function"
   ]
  },
  {
   "cell_type": "markdown",
   "metadata": {},
   "source": [
    "For this simple example, let's consider the reaction A -> B with some reaction rate, k and intial condition of A0 = 1 and B0 = 0. We can write ODEs describing the rate of change of both species (or states) A and B.  \n",
    "\n",
    "d[A] / dt = - k * [A]\n",
    "\n",
    "d[B] / dt = k * [A]"
   ]
  },
  {
   "cell_type": "markdown",
   "metadata": {},
   "source": [
    "Now, let's write 4 functions to solve and visualize this system of equations. This is one generalizable way to set up your code to solve a system of ODEs, but there are many other ways that would work as well. Note that you might need to structure your functions differently (ex: add some function inputs) to use these functions in order to complete problem 1. "
   ]
  },
  {
   "cell_type": "markdown",
   "metadata": {},
   "source": [
    "The first thing we need to do is import all of the packages that we need to use in this notebook. Each package enables us to call functions and methods that other coders and developers have created."
   ]
  },
  {
   "cell_type": "code",
   "execution_count": null,
   "metadata": {},
   "outputs": [],
   "source": [
    "#This package enables us to solve ODEs.\n",
    "from scipy.integrate import odeint\n",
    "\n",
    "#These packages enable us to plot our results. \n",
    "import matplotlib.pyplot as plt\n",
    "import seaborn as sns\n",
    "\n",
    "#This package helps us restructure and store our data. \n",
    "import pandas as pd"
   ]
  },
  {
   "cell_type": "markdown",
   "metadata": {},
   "source": [
    "1) Defining the system of ODEs "
   ]
  },
  {
   "cell_type": "code",
   "execution_count": null,
   "metadata": {},
   "outputs": [],
   "source": [
    "def Model(y, t, p):\n",
    "    '''This function defines the set of ODEs for simulation. This function is called by SolveModel_'''\n",
    "    \n",
    "    #Define p, the list of parameters\n",
    "    #If more than one parameter, separate parameter values with a comma (ex: k1, k2 = p)\n",
    "    k = p\n",
    "    \n",
    "    #Define each state variable and pack into variable y\n",
    "    A, B = y\n",
    "    \n",
    "    #Define the system of ODEs\n",
    "    dydt = [-k * A,\n",
    "           k * A] \n",
    "    \n",
    "    #Output dydt\n",
    "    return dydt"
   ]
  },
  {
   "cell_type": "markdown",
   "metadata": {},
   "source": [
    "2) Defining parameters"
   ]
  },
  {
   "cell_type": "markdown",
   "metadata": {},
   "source": [
    "Let's say we want to know how this reaction proceeds at high k values (fast reaction rate) and at low k values (slow reaction rates). We want to provide a high value of k for one model case and a low value of k for another. We can wrap this into a function that takes an input of a string (basically Python's version of text. Must be wrapped in '' or str(). ex: 'fast' or str(fast)) and outputs the correct value of k based on that string. The utility of this function will be more apparent when we have a larger list of parameter values to define. Note that setting up a function to define parameters such as this one is generally more useful when\n",
    "you have > 1 parameter value. You do not necessarily need to define your own code in this way."
   ]
  },
  {
   "cell_type": "code",
   "execution_count": null,
   "metadata": {},
   "outputs": [],
   "source": [
    "def DefineParameters(modelCase):\n",
    "    '''This function defines the parameter(s) needed to solve the ODE model. This function is called by SolveModel_\n",
    "    It takes in input of modelCase, which must be set to either 'fast' or 'slow' '''\n",
    "    \n",
    "    #if 'fast' reaction, set k to a high value \n",
    "    if modelCase == 'fast':\n",
    "        k = 10\n",
    "        \n",
    "    #if 'slow' reaction, set k to a low value    \n",
    "    elif modelCase == 'slow':\n",
    "        k = .1\n",
    "    \n",
    "    else:\n",
    "        print('The modelCase you input is not valid. Please input either fast or slow')\n",
    "        \n",
    "    #Output k\n",
    "    return k"
   ]
  },
  {
   "cell_type": "markdown",
   "metadata": {},
   "source": [
    "3) Solving the model"
   ]
  },
  {
   "cell_type": "code",
   "execution_count": null,
   "metadata": {},
   "outputs": [],
   "source": [
    "def SolveModel(parameters):\n",
    "    \n",
    "    '''This function solves the ODE model for a single initial condition. It takes an input of parameters, which \n",
    "    is defined by calling the function DefineParameters'''\n",
    "    \n",
    "    #Set time to a list of integer values from 0 to 25\n",
    "    t = list(range(0,25))\n",
    "    \n",
    "    #Define initial conditions\n",
    "    y0 = [1, 0]\n",
    "    \n",
    "    #Call odeint to solve the model \n",
    "    solution = odeint(Model, y0, t, args=(parameters,))\n",
    "    \n",
    "    #Output solution\n",
    "    return t, solution"
   ]
  },
  {
   "cell_type": "markdown",
   "metadata": {},
   "source": [
    "In the case study, we'll be plotting a heat map, but here we'll plot the dynamics of each state variable (A and and B) as line plots. However, the strucutre of both functions are very similar; each take inputs of simulation data (solutions from the function SolveModel) and output a visualization of that data."
   ]
  },
  {
   "cell_type": "markdown",
   "metadata": {},
   "source": [
    "4) Visualizing the Results"
   ]
  },
  {
   "cell_type": "code",
   "execution_count": null,
   "metadata": {},
   "outputs": [],
   "source": [
    "def PlotSim(t, solution):\n",
    "    '''This function plots the results from SolveModel. It takes inputs of t and solution, which are defined by calling\n",
    "    the function SolveModel''' \n",
    "    \n",
    "    #Plot t on the x-axis and the 1st column (0th index) of solution on the y axis (concentration of A over time)\n",
    "    plt.plot(t, solution[:, 0], color='lightseagreen', linewidth=3)\n",
    "    \n",
    "    #Plot t on the x-axis and the 2nd column (1st index) of solution on the y axis (concentration of B over time)\n",
    "    plt.plot(t, solution[:, 1], color='rebeccapurple', linewidth=3)\n",
    "    \n",
    "    plt.xlabel('Time')\n",
    "    plt.ylabel('Concentration')\n",
    "    plt.title('Reaction Kinetics of A -> B')\n",
    "    plt.legend(['A', 'B'])\n",
    "    plt.show()"
   ]
  },
  {
   "cell_type": "markdown",
   "metadata": {},
   "source": [
    "Now that we've written out functions, let's run them!"
   ]
  },
  {
   "cell_type": "code",
   "execution_count": null,
   "metadata": {},
   "outputs": [],
   "source": [
    "#Define your parameter set. Set modelCase to your desired model case ('fast' or 'slow') to switch between parameter sets. \n",
    "modelCase = 'fast' \n",
    "parameters = DefineParameters(modelCase)\n",
    "\n",
    "#Now, call the function SolveModel to run the simulation. \n",
    "t, sol = SolveModel(parameters)\n",
    "\n",
    "#Now, let's plot our results as a heatmap!\n",
    "PlotSim(t, sol)"
   ]
  },
  {
   "cell_type": "code",
   "execution_count": null,
   "metadata": {},
   "outputs": [],
   "source": []
  }
 ],
 "metadata": {
  "kernelspec": {
   "display_name": "Python 3 (ipykernel)",
   "language": "python",
   "name": "python3"
  },
  "language_info": {
   "codemirror_mode": {
    "name": "ipython",
    "version": 3
   },
   "file_extension": ".py",
   "mimetype": "text/x-python",
   "name": "python",
   "nbconvert_exporter": "python",
   "pygments_lexer": "ipython3",
   "version": "3.9.7"
  }
 },
 "nbformat": 4,
 "nbformat_minor": 2
}
